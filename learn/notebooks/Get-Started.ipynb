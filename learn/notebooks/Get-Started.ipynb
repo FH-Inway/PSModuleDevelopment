{
 "cells": [
  {
   "cell_type": "markdown",
   "metadata": {},
   "source": [
    "# Get Started\n",
    "\n",
    "This notebook will guide you through the first steps of using the PSModuleDevelopment module.\n",
    "\n",
    "## Prerequisites\n",
    "\n",
    "To make full use of this notebook, open it in Visual Studio Code with the PowerShell and Polyglot extensions installed.\n",
    "\n",
    "To use the PSModuleDevelopment PowerShell module, version 3.0 of PowerShell needs to be installed as well.\n",
    "\n",
    "## Installation\n",
    "\n",
    "The PSModuleDevelopment module can be installed from the PowerShell Gallery. To do so, run the following PowerShell command:"
   ]
  },
  {
   "cell_type": "code",
   "execution_count": 1,
   "metadata": {
    "dotnet_interactive": {
     "language": "pwsh"
    },
    "polyglot_notebook": {
     "kernelName": "pwsh"
    },
    "vscode": {
     "languageId": "polyglot-notebook"
    }
   },
   "outputs": [],
   "source": [
    "Install-Module PSModuleDevelopment -Scope CurrentUser"
   ]
  },
  {
   "cell_type": "markdown",
   "metadata": {},
   "source": [
    "### Installation prompts\n",
    "\n",
    "The installation may prompt you for questions / confirmations about core PowerShell configurations. You need to either accept or approve all the prompts for the module to work correctly. The prompts usually require you to enter \"y\" (for yes) or \"a\" (for \"yes to all\").\n",
    "\n",
    "## Importing the module\n",
    "\n",
    "Once the module is installed, it can be imported into the current PowerShell session. To do so, run the following command."
   ]
  },
  {
   "cell_type": "code",
   "execution_count": 2,
   "id": "496ab351",
   "metadata": {
    "dotnet_interactive": {
     "language": "pwsh"
    },
    "polyglot_notebook": {
     "kernelName": "pwsh"
    },
    "vscode": {
     "languageId": "polyglot-notebook"
    }
   },
   "outputs": [],
   "source": [
    "Import-Module PSModuleDevelopment"
   ]
  },
  {
   "cell_type": "markdown",
   "metadata": {},
   "source": [
    "## Using the module\n",
    "\n",
    "The PSModuleDevelopment module provides a number of functions to help with the development of PowerShell modules. The following sections will guide you through some of the key functions.\n",
    "\n",
    "### Use a template to create a new module\n",
    "\n",
    "Imagine you want to create a new PowerShell module, but you are unsure of the structure or what files you need to create. You can use the templating engine of PSModuleDevelopment to create a scaffolding folder and file structure for your new module. This is done with the `Invoke-PSMDTemplate` command. Make sure to run the  command in the root folder where you want to create the new module. The first few lines of the following code cell will create a new folder. It will then invoke the `MiniModule` template to create the scaffolding in that folder.\n",
    "The template invocation will prompt you for a name and description for the new module."
   ]
  },
  {
   "cell_type": "code",
   "execution_count": 4,
   "id": "242cf823",
   "metadata": {
    "dotnet_interactive": {
     "language": "pwsh"
    },
    "polyglot_notebook": {
     "kernelName": "pwsh"
    },
    "vscode": {
     "languageId": "polyglot-notebook"
    }
   },
   "outputs": [
    {
     "name": "stdout",
     "output_type": "stream",
     "text": [
      "WARNING: [15:15:00][Invoke-PSMDTemplate] Failed to: Creating file/project from template MiniModule 1.0.0.0 | Cannot process argument transformation on parameter 'Item'. Cannot convert the \"PSModuleDevelopment.Template.TemplateItemFolder\" value of type \"Deserialized.PSModuleDevelopment.Template.TemplateItemFolder\" to type \"PSModuleDevelopment.Template.TemplateItemBase\".\n"
     ]
    },
    {
     "ename": "Error",
     "evalue": "Command failed: SubmitCode: # Switch to the module folder first ...",
     "output_type": "error",
     "traceback": [
      "Command failed: SubmitCode: # Switch to the module folder first ..."
     ]
    }
   ],
   "source": [
    "# Switch to the module folder first\n",
    "$moduleFolder = [System.IO.Path]::GetTempPath() # Change this to e.g. \"C:\\Temp\" on Windows or \"/tmp\" on Linux if you want to use a different folder for your module\n",
    "Set-Location $moduleFolder\n",
    "\n",
    "# Invoke the module template\n",
    "Invoke-PSMDTemplate MiniModule"
   ]
  }
 ],
 "metadata": {
  "kernelInfo": {
   "defaultKernelName": null,
   "items": [
    {
     "aliases": [
      "c#",
      "cs"
     ],
     "languageName": "C#",
     "name": "csharp"
    },
    {
     "aliases": [
      "f#",
      "fs"
     ],
     "languageName": "F#",
     "name": "fsharp"
    },
    {
     "languageName": "HTML",
     "name": "html"
    },
    {
     "languageName": "HTTP",
     "name": "http"
    },
    {
     "aliases": [
      "js"
     ],
     "languageName": "JavaScript",
     "name": "javascript"
    },
    {
     "languageName": "KQL",
     "name": "kql"
    },
    {
     "languageName": "Mermaid",
     "name": "mermaid"
    },
    {
     "aliases": [
      "powershell"
     ],
     "languageName": "PowerShell",
     "name": "pwsh"
    },
    {
     "languageName": "SQL",
     "name": "sql"
    },
    {
     "name": "value"
    }
   ]
  },
  "kernelspec": {
   "display_name": ".NET (C#)",
   "language": "C#",
   "name": ".net-csharp"
  },
  "language_info": {
   "name": "csharp"
  },
  "metadata": {
   "kernelspec": {
    "display_name": ".NET (C#)",
    "language": "C#",
    "name": ".net-csharp"
   },
   "polyglot_notebook": {
    "kernelInfo": {
     "defaultKernelName": "csharp",
     "items": [
      {
       "aliases": [],
       "name": "csharp"
      }
     ]
    }
   }
  },
  "polyglot_notebook": {
   "kernelInfo": {
    "defaultKernelName": "csharp",
    "items": [
     {
      "aliases": [],
      "name": "csharp"
     }
    ]
   }
  }
 },
 "nbformat": 4,
 "nbformat_minor": 5
}
