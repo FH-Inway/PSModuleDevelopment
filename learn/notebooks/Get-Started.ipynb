{
 "cells": [
  {
   "cell_type": "markdown",
   "metadata": {},
   "source": [
    "# Get Started\n",
    "\n",
    "This notebook will guide you through the first steps of using the PSModuleDevelopment module.\n",
    "\n",
    "## Prerequisites\n",
    "\n",
    "To make full use of this notebook, open it in Visual Studio Code with the PowerShell and Polyglot extensions installed.\n",
    "\n",
    "To use the PSModuleDevelopment PowerShell module, version 3.0 of PowerShell needs to be installed as well.\n",
    "\n",
    "## Installation\n",
    "\n",
    "The PSModuleDevelopment module can be installed from the PowerShell Gallery. To do so, run the following PowerShell command:"
   ]
  },
  {
   "cell_type": "code",
   "execution_count": 1,
   "metadata": {
    "dotnet_interactive": {
     "language": "pwsh"
    },
    "polyglot_notebook": {
     "kernelName": "pwsh"
    },
    "vscode": {
     "languageId": "polyglot-notebook"
    }
   },
   "outputs": [],
   "source": [
    "Install-Module PSModuleDevelopment -Scope CurrentUser"
   ]
  },
  {
   "cell_type": "markdown",
   "metadata": {},
   "source": [
    "### Installation prompts\n",
    "\n",
    "The installation may prompt you for questions / confirmations about core PowerShell configurations. You need to either accept or approve all the prompts for the module to work correctly. The prompts usually require you to enter \"y\" (for yes) or \"a\" (for \"yes to all\").\n",
    "\n",
    "## Importing the module\n",
    "\n",
    "Once the module is installed, it can be imported into the current PowerShell session. To do so, run the following command."
   ]
  },
  {
   "cell_type": "code",
   "execution_count": 2,
   "id": "496ab351",
   "metadata": {
    "dotnet_interactive": {
     "language": "pwsh"
    },
    "polyglot_notebook": {
     "kernelName": "pwsh"
    },
    "vscode": {
     "languageId": "polyglot-notebook"
    }
   },
   "outputs": [],
   "source": [
    "Import-Module PSModuleDevelopment"
   ]
  },
  {
   "cell_type": "markdown",
   "metadata": {},
   "source": [
    "## Using the module\n",
    "\n",
    "The PSModuleDevelopment module provides a number of functions to help with the development of PowerShell modules. The following sections will guide you through some of the key functions.\n",
    "\n",
    "### Use a template to create a new module\n",
    "\n",
    "Imagine you want to create a new PowerShell module, but you are unsure of the structure or what files you need to create. You can use the templating engine of PSModuleDevelopment to create a scaffolding folder and file structure for your new module. This is done with the `Invoke-PSMDTemplate` command. Make sure to run the  command in the root folder where you want to create the new module. The first few lines of the following code cell will create a new folder. It will then invoke the `MiniModule` template to create the scaffolding in that folder.\n",
    "The template invocation will prompt you for a name and description for the new module."
   ]
  },
  {
   "cell_type": "code",
   "execution_count": 4,
   "id": "242cf823",
   "metadata": {
    "dotnet_interactive": {
     "language": "pwsh"
    },
    "polyglot_notebook": {
     "kernelName": "pwsh"
    },
    "vscode": {
     "languageId": "polyglot-notebook"
    }
   },
   "outputs": [
    {
     "name": "stdout",
     "output_type": "stream",
     "text": [
      "WARNING: [15:15:00][Invoke-PSMDTemplate] Failed to: Creating file/project from template MiniModule 1.0.0.0 | Cannot process argument transformation on parameter 'Item'. Cannot convert the \"PSModuleDevelopment.Template.TemplateItemFolder\" value of type \"Deserialized.PSModuleDevelopment.Template.TemplateItemFolder\" to type \"PSModuleDevelopment.Template.TemplateItemBase\".\n"
     ]
    },
    {
     "ename": "Error",
     "evalue": "Command failed: SubmitCode: # Switch to the module folder first ...",
     "output_type": "error",
     "traceback": [
      "Command failed: SubmitCode: # Switch to the module folder first ..."
     ]
    }
   ],
   "source": [
    "# Switch to the module folder first\n",
    "$moduleFolder = [System.IO.Path]::GetTempPath() # Change this to e.g. \"C:\\Temp\" on Windows or \"/tmp\" on Linux if you want to use a different folder for your module\n",
    "Set-Location $moduleFolder\n",
    "\n",
    "# Invoke the module template\n",
    "Invoke-PSMDTemplate MiniModule"
   ]
  },
  {
   "cell_type": "code",
   "execution_count": 6,
   "id": "7048928b",
   "metadata": {
    "dotnet_interactive": {
     "language": "pwsh"
    },
    "polyglot_notebook": {
     "kernelName": "pwsh"
    },
    "vscode": {
     "languageId": "polyglot-notebook"
    }
   },
   "outputs": [
    {
     "name": "stdout",
     "output_type": "stream",
     "text": [
      "\n",
      "\u001b[32;1mName                          \u001b[0m\u001b[32;1m Value\u001b[0m\n",
      "\u001b[32;1m----                          \u001b[0m \u001b[32;1m-----\u001b[0m\n",
      "PSVersion                      7.4.1\n",
      "PSEdition                      Core\n",
      "GitCommitId                    7.4.1\n",
      "OS                             Ubuntu 22.04.4 LTS\n",
      "Platform                       Unix\n",
      "PSCompatibleVersions           {1.0, 2.0, 3.0, 4.0…}\n",
      "PSRemotingProtocolVersion      2.3\n",
      "SerializationVersion           1.1.0.1\n",
      "WSManStackVersion              3.0\n",
      "\n",
      "\n",
      "\u001b[32;1mName               \u001b[0m\u001b[32;1m Version\u001b[0m\n",
      "\u001b[32;1m----               \u001b[0m \u001b[32;1m-------\u001b[0m\n",
      "PSFramework         1.12.346\n",
      "PSModuleDevelopment 2.2.12.171\n",
      "string              1.1.5\n",
      "\n"
     ]
    }
   ],
   "source": [
    "$psversiontable\n",
    "Get-Module PSFramework,PSModuleDevelopment,string | Select-Object Name,Version | Format-Table -AutoSize"
   ]
  },
  {
   "cell_type": "code",
   "execution_count": 7,
   "id": "0bc13a46",
   "metadata": {
    "dotnet_interactive": {
     "language": "pwsh"
    },
    "polyglot_notebook": {
     "kernelName": "pwsh"
    },
    "vscode": {
     "languageId": "polyglot-notebook"
    }
   },
   "outputs": [
    {
     "name": "stdout",
     "output_type": "stream",
     "text": [
      "\n",
      "\u001b[32;1mMessage               : \u001b[0m[Maintenance] Task 'psmd_dotNetTemplateCache' failed to execute | \n",
      "                        Exception calling \"DownloadString\" with \"1\" argument(s): \"The remote \n",
      "                        server returned an error: (403) Site Disabled.\"\n",
      "\u001b[32;1mSource                : \u001b[0mSystem.Management.Automation\n",
      "\u001b[32;1mStackTrace            : \u001b[0m   at System.Management.Automation.ExceptionHandlingOps.CheckActionPreferen\n",
      "                        ce(FunctionContext funcContext, Exception exception)\n",
      "                           at System.Management.Automation.Interpreter.ActionCallInstruction`2.Run(\n",
      "                        InterpretedFrame frame)\n",
      "                           at System.Management.Automation.Interpreter.EnterTryCatchFinallyInstruct\n",
      "                        ion.Run(InterpretedFrame frame)\n",
      "                           at System.Management.Automation.Interpreter.EnterTryCatchFinallyInstruct\n",
      "                        ion.Run(InterpretedFrame frame)\n",
      "\u001b[32;1mTargetSite            : \u001b[0mVoid CheckActionPreference(System.Management.Automation.Language.FunctionCo\n",
      "                        ntext, System.Exception)\n",
      "\u001b[32;1mHResult               : \u001b[0m-2146233087\n",
      "\u001b[32;1mHelpLink              : \u001b[0m\n",
      "\u001b[32;1mData                  : \u001b[0m{[System.Management.Automation.Interpreter.InterpretedFrameInfo, \n",
      "                        System.Management.Automation.Interpreter.InterpretedFrameInfo[]]}\n",
      "\u001b[32;1mInnerException        : \u001b[0mThe remote server returned an error: (403) Site Disabled.\n",
      "\u001b[32;1mExceptionTypeName     : \u001b[0mSystem.Management.Automation.MethodInvocationException\n",
      "\u001b[32;1mExceptionData         : \u001b[0m{[ErrorRecord, Exception calling \"DownloadString\" with \"1\" argument(s): \n",
      "                        \"The remote server returned an error: (403) Site Disabled.\"], \n",
      "                        [WasThrownFromThrowStatement, False]}\n",
      "\u001b[32;1mCategoryInfo          : \u001b[0mNotSpecified: (:) [], MethodInvocationException\n",
      "\u001b[32;1mErrorDetails          : \u001b[0m\n",
      "\u001b[32;1mFullyQualifiedErrorId : \u001b[0mWebException\n",
      "\u001b[32;1mInvocationInfo        : \u001b[0mSystem.Management.Automation.InvocationInfo\n",
      "\u001b[32;1mScriptStackTrace      : \u001b[0mat <ScriptBlock>, /root/.local/share/powershell/Modules/PSModuleDevelopment\n",
      "                        /2.2.12.171/PSModuleDevelopment.psm1: line 8275\n",
      "                        at <ScriptBlock>, <No file>: line 23\n",
      "\u001b[32;1mTargetObject          : \u001b[0m\n",
      "\u001b[32;1mFunctionName          : \u001b[0mtask:TaskEngine\n",
      "\u001b[32;1mTimestamp             : \u001b[0m10/6/2024 3:14:25 PM\n",
      "\u001b[32;1mRunspace              : \u001b[0mbe67ac54-4db8-4d02-a31e-bc3b785b059a\n",
      "\u001b[32;1mComputerName          : \u001b[0mcodespaces-9c3a84\n",
      "\n"
     ]
    }
   ],
   "source": [
    "$errors = Get-PSFMessage -Errors\n",
    "$errors[0].Exceptions"
   ]
  },
  {
   "cell_type": "code",
   "execution_count": 8,
   "id": "5240ced8",
   "metadata": {
    "dotnet_interactive": {
     "language": "pwsh"
    },
    "polyglot_notebook": {
     "kernelName": "pwsh"
    },
    "vscode": {
     "languageId": "polyglot-notebook"
    }
   },
   "outputs": [
    {
     "name": "stdout",
     "output_type": "stream",
     "text": [
      "\n",
      "\u001b[32;1mMessage               : \u001b[0mFailed to: Creating file/project from template MiniModule 1.0.0.0 | \n",
      "                        Project root folder already exists: /tmp/MyNewModule\n",
      "\u001b[32;1mSource                : \u001b[0mSystem.Management.Automation\n",
      "\u001b[32;1mStackTrace            : \u001b[0m   at System.Management.Automation.ExceptionHandlingOps.CheckActionPreferen\n",
      "                        ce(FunctionContext funcContext, Exception exception)\n",
      "                           at System.Management.Automation.Interpreter.ActionCallInstruction`2.Run(\n",
      "                        InterpretedFrame frame)\n",
      "                           at System.Management.Automation.Interpreter.EnterTryCatchFinallyInstruct\n",
      "                        ion.Run(InterpretedFrame frame)\n",
      "                           at System.Management.Automation.Interpreter.EnterTryCatchFinallyInstruct\n",
      "                        ion.Run(InterpretedFrame frame)\n",
      "                           at \n",
      "                        System.Management.Automation.Interpreter.Interpreter.Run(InterpretedFrame \n",
      "                        frame)\n",
      "                           at System.Management.Automation.Interpreter.LightLambda.RunVoid1[T0](T0 \n",
      "                        arg0)\n",
      "                           at System.Management.Automation.ScriptBlock.InvokeWithPipeImpl(ScriptBlo\n",
      "                        ckClauseToInvoke clauseToInvoke, Boolean createLocalScope, Dictionary`2 \n",
      "                        functionsToDefine, List`1 variablesToDefine, ErrorHandlingBehavior \n",
      "                        errorHandlingBehavior, Object dollarUnder, Object input, Object \n",
      "                        scriptThis, Pipe outputPipe, InvocationInfo invocationInfo, Object[] args)\n",
      "                           at System.Management.Automation.ScriptBlock.InvokeWithPipe(Boolean \n",
      "                        useLocalScope, ErrorHandlingBehavior errorHandlingBehavior, Object \n",
      "                        dollarUnder, Object input, Object scriptThis, Pipe outputPipe, \n",
      "                        InvocationInfo invocationInfo, Boolean propagateAllExceptionsToTop, List`1 \n",
      "                        variablesToDefine, Dictionary`2 functionsToDefine, Object[] args)\n",
      "                           at System.Management.Automation.ScriptBlock.DoInvokeReturnAsIs(Boolean \n",
      "                        useLocalScope, ErrorHandlingBehavior errorHandlingBehavior, Object \n",
      "                        dollarUnder, Object input, Object scriptThis, Object[] args)\n",
      "                           at System.Management.Automation.CommandInvocationIntrinsics.InvokeScript\n",
      "                        (ScriptBlock sb, Boolean useNewScope, PipelineResultTypes writeToPipeline, \n",
      "                        IList input, Object[] args)\n",
      "                           at System.Management.Automation.CommandInvocationIntrinsics.InvokeScript\n",
      "                        (Boolean useLocalScope, ScriptBlock scriptBlock, IList input, Object[] \n",
      "                        args)\n",
      "                           at PSFramework.Commands.InvokePSFProtectedCommand.ProcessRecord()\n",
      "\u001b[32;1mTargetSite            : \u001b[0mVoid CheckActionPreference(System.Management.Automation.Language.FunctionCo\n",
      "                        ntext, System.Exception)\n",
      "\u001b[32;1mHResult               : \u001b[0m-2146233087\n",
      "\u001b[32;1mHelpLink              : \u001b[0m\n",
      "\u001b[32;1mData                  : \u001b[0m{[System.Management.Automation.Interpreter.InterpretedFrameInfo, \n",
      "                        System.Management.Automation.Interpreter.InterpretedFrameInfo[]]}\n",
      "\u001b[32;1mInnerException        : \u001b[0mProject root folder already exists: /tmp/MyNewModule\n",
      "\u001b[32;1mExceptionTypeName     : \u001b[0mSystem.Management.Automation.RuntimeException\n",
      "\u001b[32;1mExceptionData         : \u001b[0m{[ErrorRecord, Project root folder already exists: /tmp/MyNewModule], \n",
      "                        [WasThrownFromThrowStatement, True]}\n",
      "\u001b[32;1mCategoryInfo          : \u001b[0mNotSpecified: (MiniModule 1.0.0.0:TemplateInfo) [], RuntimeException\n",
      "\u001b[32;1mErrorDetails          : \u001b[0m\n",
      "\u001b[32;1mFullyQualifiedErrorId : \u001b[0mPSModuleDevelopment_Invoke-PSMDTemplate\n",
      "\u001b[32;1mInvocationInfo        : \u001b[0m\n",
      "\u001b[32;1mScriptStackTrace      : \u001b[0m\n",
      "\u001b[32;1mTargetObject          : \u001b[0mMiniModule 1.0.0.0\n",
      "\u001b[32;1mFunctionName          : \u001b[0mInvoke-PSMDTemplate\n",
      "\u001b[32;1mTimestamp             : \u001b[0m10/6/2024 3:14:43 PM\n",
      "\u001b[32;1mRunspace              : \u001b[0mb83d5089-c7dd-4fab-bec6-67ddf8478377\n",
      "\u001b[32;1mComputerName          : \u001b[0mcodespaces-9c3a84\n",
      "\n"
     ]
    }
   ],
   "source": [
    "$errors[1].Exceptions"
   ]
  }
 ],
 "metadata": {
  "kernelInfo": {
   "defaultKernelName": null,
   "items": [
    {
     "aliases": [
      "c#",
      "cs"
     ],
     "languageName": "C#",
     "name": "csharp"
    },
    {
     "aliases": [
      "f#",
      "fs"
     ],
     "languageName": "F#",
     "name": "fsharp"
    },
    {
     "languageName": "HTML",
     "name": "html"
    },
    {
     "languageName": "HTTP",
     "name": "http"
    },
    {
     "aliases": [
      "js"
     ],
     "languageName": "JavaScript",
     "name": "javascript"
    },
    {
     "languageName": "KQL",
     "name": "kql"
    },
    {
     "languageName": "Mermaid",
     "name": "mermaid"
    },
    {
     "aliases": [
      "powershell"
     ],
     "languageName": "PowerShell",
     "name": "pwsh"
    },
    {
     "languageName": "SQL",
     "name": "sql"
    },
    {
     "name": "value"
    }
   ]
  },
  "kernelspec": {
   "display_name": ".NET (C#)",
   "language": "C#",
   "name": ".net-csharp"
  },
  "language_info": {
   "name": "csharp"
  },
  "metadata": {
   "kernelspec": {
    "display_name": ".NET (C#)",
    "language": "C#",
    "name": ".net-csharp"
   },
   "polyglot_notebook": {
    "kernelInfo": {
     "defaultKernelName": "csharp",
     "items": [
      {
       "aliases": [],
       "name": "csharp"
      }
     ]
    }
   }
  },
  "polyglot_notebook": {
   "kernelInfo": {
    "defaultKernelName": "csharp",
    "items": [
     {
      "aliases": [],
      "name": "csharp"
     }
    ]
   }
  }
 },
 "nbformat": 4,
 "nbformat_minor": 5
}
